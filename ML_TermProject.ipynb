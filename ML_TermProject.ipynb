{
  "nbformat": 4,
  "nbformat_minor": 0,
  "metadata": {
    "colab": {
      "name": "ML_TermProject.ipynb",
      "provenance": []
    },
    "kernelspec": {
      "name": "python3",
      "display_name": "Python 3"
    },
    "accelerator": "GPU"
  },
  "cells": [
    {
      "cell_type": "code",
      "metadata": {
        "colab": {
          "base_uri": "https://localhost:8080/"
        },
        "id": "4AZYIDyPZPYl",
        "outputId": "0f9c19c6-473f-4ccd-d1ce-ed455999e4e6"
      },
      "source": [
        "import numpy as np\r\n",
        "import datetime\r\n",
        "import torch\r\n",
        "import torchvision            \r\n",
        "import torch.nn as nn\r\n",
        "import sklearn as sk\r\n",
        "from sklearn.model_selection import train_test_split\r\n",
        "from sklearn.preprocessing import normalize\r\n",
        "\r\n",
        "print(torch.__version__)"
      ],
      "execution_count": 1,
      "outputs": [
        {
          "output_type": "stream",
          "text": [
            "1.7.0+cu101\n"
          ],
          "name": "stdout"
        }
      ]
    },
    {
      "cell_type": "code",
      "metadata": {
        "id": "FBdxCYSjZU_8"
      },
      "source": [
        "from torch.utils.data import Dataset, DataLoader\r\n",
        "from torchvision import datasets\r\n",
        "from torchvision import transforms, utils\r\n",
        "import matplotlib.pyplot as plt\r\n",
        "import os\r\n",
        "from os import path\r\n",
        "import struct\r\n",
        "from array import array\r\n",
        "from PIL import Image\r\n",
        "#import matplotlib\r\n",
        "\r\n",
        "%matplotlib inline\r\n",
        "from matplotlib.pyplot import imshow, imsave"
      ],
      "execution_count": 2,
      "outputs": []
    },
    {
      "cell_type": "code",
      "metadata": {
        "colab": {
          "base_uri": "https://localhost:8080/"
        },
        "id": "jWiZajDgZWNG",
        "outputId": "15154ff3-4937-472b-8c47-93f84ab0cc1e"
      },
      "source": [
        "MODEL_NAME = 'DNN'\r\n",
        "DEVICE = torch.device(\"cuda\" if torch.cuda.is_available() else \"cpu\")\r\n",
        "print(\"MODEL_NAME = {}, DEVICE = {}\".format(MODEL_NAME, DEVICE))"
      ],
      "execution_count": 3,
      "outputs": [
        {
          "output_type": "stream",
          "text": [
            "MODEL_NAME = DNN, DEVICE = cuda\n"
          ],
          "name": "stdout"
        }
      ]
    },
    {
      "cell_type": "code",
      "metadata": {
        "id": "J01hPgkuZXkC"
      },
      "source": [
        "# file needed: \"kr-vs-kp.data\", download link: https://archive.ics.uci.edu/ml/datasets/Chess+%28King-Rook+vs.+King-Pawn%29\r\n",
        "# Import file on colab\r\n",
        "\r\n",
        "# from google.colab import files\r\n",
        "# uploaded = files.upload()\r\n",
        "\r\n",
        "# OR place the data file on the current directory"
      ],
      "execution_count": 4,
      "outputs": []
    },
    {
      "cell_type": "code",
      "metadata": {
        "id": "zraoa5fIZba5"
      },
      "source": [
        "attribute_names = ['bkblk','bknwy','bkon8','bkona','bkspr','bkxbq','bkxcr','bkxwp','blxwp','bxqsq','cntxt','dsopp','dwipd',\r\n",
        " 'hdchk','katri','mulch','qxmsq','r2ar8','reskd','reskr','rimmx','rkxwp','rxmsq','simpl','skach','skewr',\r\n",
        " 'skrxp','spcop','stlmt','thrsk','wkcti','wkna8','wknck','wkovl','wkpos','wtoeg']\r\n",
        "attribute_features = []\r\n",
        "X = []\r\n",
        "y = []\r\n",
        "\r\n",
        "def isAttrListed(attribute):\r\n",
        "  for feature in attribute_features:\r\n",
        "    if attribute == feature:\r\n",
        "      return True\r\n",
        "  return False\r\n",
        "\r\n",
        "with open(\"kr-vs-kp.data\", 'r') as f:\r\n",
        "  lines = f.readlines()\r\n",
        "\r\n",
        "for idx, line in enumerate(lines):\r\n",
        "  attributes = line.strip('\\n').split(',')\r\n",
        "  result = attributes[-1]\r\n",
        "  attributes = attributes[:-1]\r\n",
        "\r\n",
        "  if result == 'won':\r\n",
        "    y.append(1)\r\n",
        "  elif result == 'nowin':\r\n",
        "    y.append(0)\r\n",
        "  \r\n",
        "  for attr in attributes:\r\n",
        "    if not isAttrListed(attr):\r\n",
        "      attribute_features.append(attr)\r\n",
        "    X.append(attribute_features.index(attr))\r\n",
        "\r\n",
        "X_ = normalize(np.array(X).reshape((-1, 36)))\r\n",
        "X = X_.reshape(-1, 1, 36)\r\n",
        "y_ = y = np.array(y)"
      ],
      "execution_count": 48,
      "outputs": []
    },
    {
      "cell_type": "code",
      "metadata": {
        "id": "lDreznge84va"
      },
      "source": [
        "X_train, X_test, y_train, y_test = train_test_split(X, y, test_size=0.3, random_state=777)\r\n",
        "X_tr, X_ts, y_tr, y_ts = train_test_split(X_, y_, test_size=0.3, random_state=777)"
      ],
      "execution_count": 49,
      "outputs": []
    },
    {
      "cell_type": "code",
      "metadata": {
        "id": "cM0wen4-5F3E"
      },
      "source": [
        "class MyDataset(Dataset):\r\n",
        "    def __init__(self, X, y):\r\n",
        "        self.X = X\r\n",
        "        self.y = y\r\n",
        "          \r\n",
        "    def __len__(self):\r\n",
        "        return len(self.y)\r\n",
        "\r\n",
        "    def __getitem__(self, idx):\r\n",
        "        sample = {'label': self.y[idx], 'data': self.X[idx]}\r\n",
        "\r\n",
        "        return sample"
      ],
      "execution_count": 50,
      "outputs": []
    },
    {
      "cell_type": "code",
      "metadata": {
        "id": "TATbLM95iQ1o"
      },
      "source": [
        "train_data = MyDataset(X_train, y_train)\r\n",
        "test_data = MyDataset(X_test, y_test)"
      ],
      "execution_count": 51,
      "outputs": []
    },
    {
      "cell_type": "code",
      "metadata": {
        "id": "5p3hYECL4Zdz"
      },
      "source": [
        "class MyCNN(nn.Module):\r\n",
        "    def __init__(self):\r\n",
        "        super(MyCNN, self).__init__()\r\n",
        "        \r\n",
        "        self.conv = nn.Sequential(\r\n",
        "            # (N, 1, 36)\r\n",
        "            nn.Conv1d(1, 16, kernel_size=3, stride=1, padding=1),\r\n",
        "            nn.ReLU(),\r\n",
        "            nn.MaxPool1d(2, 2),\r\n",
        "            # (N, 16, 18)\r\n",
        "            nn.Conv1d(16, 64, kernel_size=3, stride=1, padding=1),\r\n",
        "            nn.ReLU(),\r\n",
        "            nn.MaxPool1d(2, 2),\r\n",
        "            # (N, 64, 9)\r\n",
        "        )\r\n",
        "        self.fc = nn.Sequential(\r\n",
        "            nn.Linear(64*9, 64),\r\n",
        "            nn.BatchNorm1d(64, momentum=0.1),\r\n",
        "            nn.Linear(64, 2),\r\n",
        "            nn.Sigmoid()\r\n",
        "        )\r\n",
        "        \r\n",
        "    def forward(self, x):\r\n",
        "        y_ = self.conv(x) # (N, 64. 9)\r\n",
        "        y_ = y_.view(y_.size(0), -1) # (N, 64*9)\r\n",
        "        y_ = self.fc(y_)\r\n",
        "        return y_"
      ],
      "execution_count": 52,
      "outputs": []
    },
    {
      "cell_type": "code",
      "metadata": {
        "id": "Pj2WyU7a-bDZ"
      },
      "source": [
        "model = MyCNN().to(DEVICE)\r\n",
        "batch_size = 64\r\n",
        "train_loader = DataLoader(dataset=train_data, batch_size=batch_size, shuffle=True, drop_last=True)\r\n",
        "test_loader = DataLoader(dataset=test_data, batch_size=100, shuffle=False, drop_last=False)\r\n",
        "\r\n",
        "# utility function to measure time\r\n",
        "\r\n",
        "import time\r\n",
        "import math\r\n",
        "\r\n",
        "def timeSince(since):\r\n",
        "    now = time.time()\r\n",
        "    s = now - since\r\n",
        "    m = math.floor(s / 60)\r\n",
        "    s -= m * 60\r\n",
        "    return '%dm %ds' % (m, s)\r\n",
        "\r\n",
        "# set loss function and optimizer\r\n",
        "\r\n",
        "criterion = nn.CrossEntropyLoss()\r\n",
        "optim = torch.optim.Adam(model.parameters(), lr=0.0001)\r\n",
        "\r\n",
        "# reset loss history\r\n",
        "all_losses = []"
      ],
      "execution_count": 53,
      "outputs": []
    },
    {
      "cell_type": "code",
      "metadata": {
        "id": "l7UQUVb9-eLm"
      },
      "source": [
        "max_epoch = 100        # maximum number of epochs\r\n",
        "step = 0             # initialize step counter variable\r\n",
        "\r\n",
        "plot_every = 200\r\n",
        "total_loss = 0 # Reset every plot_every iters\r\n",
        "\r\n",
        "start = time.time()\r\n",
        "\r\n",
        "for epoch in range(max_epoch):\r\n",
        "    for idx, datas in enumerate(train_loader):\r\n",
        "\r\n",
        "        data = datas['data'] # (N, 1, 36)\r\n",
        "        label = datas['label'] # (N, )\r\n",
        "\r\n",
        "        # Training Discriminator\r\n",
        "        x, y = data.to(DEVICE, dtype=torch.float), label.to(DEVICE, dtype=torch.float) # (N, 1, 28, 28), (N, )\r\n",
        "        \r\n",
        "        y_hat = model(x) # (N, 2)  # forward propagation\r\n",
        "        \r\n",
        "        loss = criterion(y_hat, y.long())  # computing loss\r\n",
        "        total_loss += loss.item()\r\n",
        "          \r\n",
        "        optim.zero_grad()           # reset gradient\r\n",
        "        loss.backward()             # back-propagation (compute gradient)\r\n",
        "        optim.step()                # update parameters with gradient\r\n",
        "        \r\n",
        "        if (step + 1) % plot_every == 0:\r\n",
        "            all_losses.append(total_loss / plot_every)\r\n",
        "            total_loss = 0\r\n",
        "        \r\n",
        "        step += 1"
      ],
      "execution_count": 54,
      "outputs": []
    },
    {
      "cell_type": "code",
      "metadata": {
        "colab": {
          "base_uri": "https://localhost:8080/"
        },
        "id": "-vdInS84_7-E",
        "outputId": "17b8e2f8-bf08-4233-9e82-4c594da316f0"
      },
      "source": [
        "# # periodically evalute model on test data\r\n",
        "model.eval()\r\n",
        "\r\n",
        "acc = 0.\r\n",
        "with torch.no_grad():   # disable autograd\r\n",
        "    for idx, datas in enumerate(train_loader):\r\n",
        "\r\n",
        "        labels = datas['label'] # (N, )\r\n",
        "        images = datas['data'] # (N, 1, 28, 28)\r\n",
        "        x, y = images.to(DEVICE, dtype=torch.float), labels.to(DEVICE, dtype=torch.float) # (N, 1, 28, 28), (N, )\r\n",
        "        y_hat = model(x) # (N, 20)\r\n",
        "        loss = criterion(y_hat, y.long())\r\n",
        "        _, indices = torch.max(y_hat, dim=-1)     # find maxmum along the last axis (argmax of each row)\r\n",
        "                                                  # ex) max_value, max_idx = torch.max(input, dim)\r\n",
        "        acc += torch.sum(indices == y).item()     # count correctly classified samples\r\n",
        "                                                  # torch.sum() returns Tensor. Tensor.item() converts it to a value\r\n",
        "print('*'*20, 'Train', '*'*20)\r\n",
        "print('Step: {}, Loss: {}, Accuracy: {} %'.format(step, loss.item(), acc/len(train_data)*100))\r\n",
        "print('*'*46)\r\n",
        "\r\n",
        "acc = 0.\r\n",
        "with torch.no_grad():   # disable autograd\r\n",
        "    for idx, datas in enumerate(test_loader):\r\n",
        "\r\n",
        "        labels = datas['label'] # (N, )\r\n",
        "        images = datas['data'] # (N, 1, 28, 28)\r\n",
        "        x, y = images.to(DEVICE, dtype=torch.float), labels.to(DEVICE, dtype=torch.float) # (N, 1, 28, 28), (N, )\r\n",
        "        y_hat = model(x) # (N, 20)\r\n",
        "        loss = criterion(y_hat, y.long())\r\n",
        "        _, indices = torch.max(y_hat, dim=-1)     # find maxmum along the last axis (argmax of each row)\r\n",
        "                                                  # ex) max_value, max_idx = torch.max(input, dim)\r\n",
        "        acc += torch.sum(indices == y).item()     # count correctly classified samples\r\n",
        "                                                  # torch.sum() returns Tensor. Tensor.item() converts it to a value\r\n",
        "print('*'*20, 'Test', '*'*20)\r\n",
        "print('Step: {}, Loss: {}, Accuracy: {} %'.format(step, loss.item(), acc/len(test_data)*100))\r\n",
        "print('*'*46)"
      ],
      "execution_count": 55,
      "outputs": [
        {
          "output_type": "stream",
          "text": [
            "******************** Train ********************\n",
            "Step: 3400, Loss: 0.3260023295879364, Accuracy: 95.9767545820295 %\n",
            "**********************************************\n",
            "******************** Test ********************\n",
            "Step: 3400, Loss: 0.34561437368392944, Accuracy: 96.76746611053181 %\n",
            "**********************************************\n"
          ],
          "name": "stdout"
        }
      ]
    },
    {
      "cell_type": "code",
      "metadata": {
        "colab": {
          "base_uri": "https://localhost:8080/",
          "height": 283
        },
        "id": "ArWZQ-11MmyI",
        "outputId": "757e6eec-4483-42a3-edd3-146d2b8c7eef"
      },
      "source": [
        "plt.figure()\r\n",
        "plt.plot(all_losses)"
      ],
      "execution_count": 56,
      "outputs": [
        {
          "output_type": "execute_result",
          "data": {
            "text/plain": [
              "[<matplotlib.lines.Line2D at 0x7fda90949940>]"
            ]
          },
          "metadata": {
            "tags": []
          },
          "execution_count": 56
        },
        {
          "output_type": "display_data",
          "data": {
            "image/png": "[encoded data removed]",
            "text/plain": [
              "<Figure size 432x288 with 1 Axes>"
            ]
          },
          "metadata": {
            "tags": [],
            "needs_background": "light"
          }
        }
      ]
    },
    {
      "cell_type": "code",
      "metadata": {
        "colab": {
          "base_uri": "https://localhost:8080/"
        },
        "id": "dhsd26BpvVrX",
        "outputId": "471ccdb2-5403-4325-cf04-38ed9254319f"
      },
      "source": [
        "from sklearn.model_selection import GridSearchCV\r\n",
        "from sklearn.svm import SVC\r\n",
        "from sklearn.metrics import (accuracy_score, precision_score, \r\n",
        "                             recall_score, f1_score, log_loss)\r\n",
        "\r\n",
        "# Step 1 - Separating training and testing datasets\r\n",
        "print(':: Step 1 - Separating training and testing datasets')\r\n",
        "print('Train data: ', X_tr.shape)\r\n",
        "print('Test data: ', X_ts.shape)\r\n",
        "\r\n",
        "# Steps 2 & 3 - Optimize hyperparameters via cross validation\r\n",
        "print('\\n:: Steps 2 & 3 - Optimize hyperparameters via cross validation')\r\n",
        "\r\n",
        "# Instantiate a model object - # set the hyperparameters that you would like to fix here\r\n",
        "svm = SVC()\r\n",
        "\r\n",
        "# Set a serach range - # list out the hyperparameter values that you would like to test here\r\n",
        "parameters = {'C': [0.1, 1, 10, 100, 1000],\r\n",
        "              'gamma': [0.001, 0.01, 0.1, 1, 10]}\r\n",
        "\r\n",
        "# Find the best hyperparameters using GridSearchCV\r\n",
        "gridsearch = GridSearchCV(svm, parameters, scoring='accuracy', cv=3)\r\n",
        "gridsearch.fit(X_tr, y_tr)\r\n",
        "\r\n",
        "# Show the best hyperparameters\r\n",
        "# String starts with 'f' - print out a floating point number in the string\r\n",
        "print(f'gridsearch.best_params_ = {gridsearch.best_params_}') \r\n",
        "\r\n",
        "# The best model is stored in 'best_svm'\r\n",
        "best_svm = gridsearch.best_estimator_\r\n",
        "print(best_svm)\r\n",
        "\r\n",
        "\r\n",
        "\r\n",
        "# Step 4 - Model performance\r\n",
        "print('\\n:: Step 4 - Model performance')\r\n",
        "\r\n",
        "y_pred = best_svm.predict(X_ts)\r\n",
        "test_acc = accuracy_score(y_ts, y_pred)\r\n",
        "print(f'test_acc = {test_acc}')\r\n",
        "\r\n",
        "\r\n",
        "\r\n",
        "# Step 5 - Train final model on full dataset (optional)\r\n",
        "print('\\n:: Step 5 - Train final model on full dataset')\r\n",
        "final_model = SVC(**gridsearch.best_params_)\r\n",
        "final_model.fit(X_, y_)"
      ],
      "execution_count": 57,
      "outputs": [
        {
          "output_type": "stream",
          "text": [
            ":: Step 1 - Separating training and testing datasets\n",
            "Train data:  (2237, 36)\n",
            "Test data:  (959, 36)\n",
            "\n",
            ":: Steps 2 & 3 - Optimize hyperparameters via cross validation\n",
            "gridsearch.best_params_ = {'C': 1000, 'gamma': 0.1}\n",
            "SVC(C=1000, break_ties=False, cache_size=200, class_weight=None, coef0=0.0,\n",
            "    decision_function_shape='ovr', degree=3, gamma=0.1, kernel='rbf',\n",
            "    max_iter=-1, probability=False, random_state=None, shrinking=True,\n",
            "    tol=0.001, verbose=False)\n",
            "\n",
            ":: Step 4 - Model performance\n",
            "test_acc = 0.9895724713242962\n",
            "\n",
            ":: Step 5 - Train final model on full dataset\n"
          ],
          "name": "stdout"
        },
        {
          "output_type": "execute_result",
          "data": {
            "text/plain": [
              "SVC(C=1000, break_ties=False, cache_size=200, class_weight=None, coef0=0.0,\n",
              "    decision_function_shape='ovr', degree=3, gamma=0.1, kernel='rbf',\n",
              "    max_iter=-1, probability=False, random_state=None, shrinking=True,\n",
              "    tol=0.001, verbose=False)"
            ]
          },
          "metadata": {
            "tags": []
          },
          "execution_count": 57
        }
      ]
    },
    {
      "cell_type": "code",
      "metadata": {
        "id": "d6v2Mra1zUPj"
      },
      "source": [
        ""
      ],
      "execution_count": 57,
      "outputs": []
    }
  ]
}